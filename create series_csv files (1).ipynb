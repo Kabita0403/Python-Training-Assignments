{
 "cells": [
  {
   "cell_type": "code",
   "execution_count": 1,
   "id": "f0bce4ac",
   "metadata": {},
   "outputs": [],
   "source": [
    "import pandas as pd"
   ]
  },
  {
   "cell_type": "code",
   "execution_count": 5,
   "id": "5f44d66d",
   "metadata": {},
   "outputs": [
    {
     "name": "stdout",
     "output_type": "stream",
     "text": [
      "Empty DataFrame\n",
      "Columns: []\n",
      "Index: []\n"
     ]
    }
   ],
   "source": [
    "import numpy as np\n",
    "import pandas as pd\n",
    "\n",
    "df = pd.DataFrame()\n",
    "print(df)"
   ]
  },
  {
   "cell_type": "code",
   "execution_count": 18,
   "id": "c15077fe",
   "metadata": {},
   "outputs": [
    {
     "name": "stdout",
     "output_type": "stream",
     "text": [
      "[1, 2, 3, 4, 'a', 2.0, 'f']\n",
      "   0\n",
      "1  a\n",
      "2  b\n",
      "4  c\n"
     ]
    }
   ],
   "source": [
    "lst=[1,2,3,4,'a',2.0,\"f\"]\n",
    "print(lst)\n",
    "df=pd.DataFrame(['a','b','c'],index=[1,2,4])\n",
    "print(df)"
   ]
  },
  {
   "cell_type": "code",
   "execution_count": 19,
   "id": "48bed4f8",
   "metadata": {},
   "outputs": [
    {
     "name": "stdout",
     "output_type": "stream",
     "text": [
      "   0\n",
      "0  a\n",
      "1  b\n",
      "2  c\n"
     ]
    }
   ],
   "source": [
    "df=pd.DataFrame(['a','b','c'])\n",
    "print(df)"
   ]
  },
  {
   "cell_type": "code",
   "execution_count": 20,
   "id": "415cebfe",
   "metadata": {},
   "outputs": [
    {
     "data": {
      "text/html": [
       "<div>\n",
       "<style scoped>\n",
       "    .dataframe tbody tr th:only-of-type {\n",
       "        vertical-align: middle;\n",
       "    }\n",
       "\n",
       "    .dataframe tbody tr th {\n",
       "        vertical-align: top;\n",
       "    }\n",
       "\n",
       "    .dataframe thead th {\n",
       "        text-align: right;\n",
       "    }\n",
       "</style>\n",
       "<table border=\"1\" class=\"dataframe\">\n",
       "  <thead>\n",
       "    <tr style=\"text-align: right;\">\n",
       "      <th></th>\n",
       "      <th>0</th>\n",
       "    </tr>\n",
       "  </thead>\n",
       "  <tbody>\n",
       "    <tr>\n",
       "      <th>r</th>\n",
       "      <td>a</td>\n",
       "    </tr>\n",
       "    <tr>\n",
       "      <th>t</th>\n",
       "      <td>b</td>\n",
       "    </tr>\n",
       "    <tr>\n",
       "      <th>u</th>\n",
       "      <td>c</td>\n",
       "    </tr>\n",
       "  </tbody>\n",
       "</table>\n",
       "</div>"
      ],
      "text/plain": [
       "   0\n",
       "r  a\n",
       "t  b\n",
       "u  c"
      ]
     },
     "execution_count": 20,
     "metadata": {},
     "output_type": "execute_result"
    }
   ],
   "source": [
    "\n",
    "lst1=['a',2.0,\"f\"]\n",
    "df=pd.DataFrame(lst1,index=[1,2,4])\n",
    "\n",
    "df=pd.DataFrame(['a','b','c'],index=['r','t','u'])\n",
    "df\n",
    "\n"
   ]
  },
  {
   "cell_type": "code",
   "execution_count": 21,
   "id": "4112e857",
   "metadata": {},
   "outputs": [
    {
     "name": "stdout",
     "output_type": "stream",
     "text": [
      "0 r    a\n",
      "t    b\n",
      "u    c\n",
      "Name: 0, dtype: object\n"
     ]
    }
   ],
   "source": [
    "for key, value in df.iteritems():\n",
    "    print(key,value)"
   ]
  },
  {
   "cell_type": "code",
   "execution_count": 22,
   "id": "747ad3f4",
   "metadata": {},
   "outputs": [
    {
     "name": "stdout",
     "output_type": "stream",
     "text": [
      "     0\n",
      "1    2\n",
      "2  2.0\n",
      "4    f\n"
     ]
    }
   ],
   "source": [
    "lst1=['2', 2.0,\"f\"]\n",
    "df=pd.DataFrame(lst1, index=[1,2,4])\n",
    "print(df)"
   ]
  },
  {
   "cell_type": "code",
   "execution_count": 24,
   "id": "98ec9bf9",
   "metadata": {},
   "outputs": [],
   "source": [
    "#df=pd.Dataframe(['a','b','c']), index=['r','t','u']\n",
    "#print(df)"
   ]
  },
  {
   "cell_type": "code",
   "execution_count": 12,
   "id": "b30c44fd",
   "metadata": {},
   "outputs": [
    {
     "name": "stdout",
     "output_type": "stream",
     "text": [
      "     0\n",
      "1    a\n",
      "2  2.0\n",
      "4    f\n",
      "0 1      a\n",
      "2    2.0\n",
      "4      f\n",
      "Name: 0, dtype: object\n"
     ]
    }
   ],
   "source": [
    "#create a DataFrame from Lists\n",
    "#The DataFrame can be created using a single list or a list of lists\n",
    "\n",
    "#print(df)\n",
    "#df=pd.DataFrame(['a','b','c'])\n",
    "#print(df)\n",
    "\n",
    "#working\n",
    "lst1 = ['a',2.0,\"f\"]\n",
    "df=pd.DataFrame(lst1, index=[1,2,4])\n",
    "print(df)\n",
    "\n",
    "#working\n",
    "for x, n in df.iteritems():\n",
    "    print(x,n)\n",
    "\n",
    "#working\n",
    "#for row_index,row in df.iterrows():\n",
    "#print(row_index,row)\n",
    "\n"
   ]
  },
  {
   "cell_type": "code",
   "execution_count": 25,
   "id": "3676b112",
   "metadata": {},
   "outputs": [],
   "source": []
  },
  {
   "cell_type": "code",
   "execution_count": 26,
   "id": "32570616",
   "metadata": {},
   "outputs": [
    {
     "name": "stdout",
     "output_type": "stream",
     "text": [
      "0 1      2\n",
      "2    2.0\n",
      "4      f\n",
      "Name: 0, dtype: object\n"
     ]
    }
   ],
   "source": [
    "for x,n in df.iteritems():\n",
    "    print(x,n)"
   ]
  },
  {
   "cell_type": "code",
   "execution_count": 27,
   "id": "a18c1376",
   "metadata": {},
   "outputs": [
    {
     "name": "stdout",
     "output_type": "stream",
     "text": [
      "       col1     cold2      col3\n",
      "6  0.798484  0.166945 -1.215187\n",
      "7  1.190839 -0.052254  0.266847\n",
      "8 -1.850930  1.620880  1.636443\n",
      "9 -0.108807 -0.902532 -0.325923\n",
      "6 col1     0.798484\n",
      "cold2    0.166945\n",
      "col3    -1.215187\n",
      "Name: 6, dtype: float64\n",
      "7 col1     1.190839\n",
      "cold2   -0.052254\n",
      "col3     0.266847\n",
      "Name: 7, dtype: float64\n",
      "8 col1    -1.850930\n",
      "cold2    1.620880\n",
      "col3     1.636443\n",
      "Name: 8, dtype: float64\n",
      "9 col1    -0.108807\n",
      "cold2   -0.902532\n",
      "col3    -0.325923\n",
      "Name: 9, dtype: float64\n",
      "col1 6    0.798484\n",
      "7    1.190839\n",
      "8   -1.850930\n",
      "9   -0.108807\n",
      "Name: col1, dtype: float64\n",
      "cold2 6    0.166945\n",
      "7   -0.052254\n",
      "8    1.620880\n",
      "9   -0.902532\n",
      "Name: cold2, dtype: float64\n",
      "col3 6   -1.215187\n",
      "7    0.266847\n",
      "8    1.636443\n",
      "9   -0.325923\n",
      "Name: col3, dtype: float64\n"
     ]
    }
   ],
   "source": [
    "df=pd.DataFrame(np.random.randn(4,3),index=[6,7,8,9],columns=['col1','cold2','col3'])\n",
    "print(df)\n",
    "for row_index,row in df.iterrows():\n",
    "    print(row_index,row)\n",
    "for row_index,row in df.iteritems():\n",
    "    print(row_index,row)"
   ]
  },
  {
   "cell_type": "code",
   "execution_count": 29,
   "id": "dee03e9e",
   "metadata": {},
   "outputs": [
    {
     "name": "stdout",
     "output_type": "stream",
     "text": [
      "{'A': ['a', 'b', 'c'], 'B': [1, 2, 3], 'C': [2014, 2015, 2016], 'D': ['AA', 'BB', 'yy']}\n",
      "   A  B     C   D\n",
      "1  a  1  2014  AA\n",
      "2  b  2  2015  BB\n",
      "4  c  3  2016  yy\n"
     ]
    }
   ],
   "source": [
    "A={'A' : ['a','b','c'], 'B':[1,2,3], 'C':[2014,2015,2016],'D':['AA','BB','yy']}\n",
    "print(A)\n",
    "df=pd.DataFrame(A)\n",
    "\n",
    "df = pd.DataFrame(A)\n",
    "df = pd.DataFrame(A,index=[1,2,4])\n",
    "print(df)"
   ]
  },
  {
   "cell_type": "code",
   "execution_count": 32,
   "id": "41edb427",
   "metadata": {},
   "outputs": [
    {
     "name": "stdout",
     "output_type": "stream",
     "text": [
      "                 a     b     c    h    g\n",
      "first    [a, b, c]   NaN   NaN  NaN  NaN\n",
      " second          5  10.0  20.0  NaN  NaN\n",
      "th              11   NaN   NaN  1.0  6.0\n"
     ]
    }
   ],
   "source": [
    "#LstDic = [{'A':['a','b','c']},{'B':[1,2,3]},'C':{'AA','BB','CC'}]\n",
    "data = [{'a': ['a','b','c']}, {'a': 5, 'b':10, 'c' : 20},{'a':11, 'h':1, 'g':6}]\n",
    "df = pd.DataFrame(data, index=['first', ' second', 'th'])\n",
    "print(df)"
   ]
  },
  {
   "cell_type": "code",
   "execution_count": 33,
   "id": "c06bfa99",
   "metadata": {},
   "outputs": [
    {
     "name": "stdout",
     "output_type": "stream",
     "text": [
      "   0  1  2\n",
      "m  1  2  3\n",
      "n  a  b  c\n"
     ]
    }
   ],
   "source": [
    "lst = [[1,2,3],['a','b','c']]\n",
    "df =pd.DataFrame(lst, index =['m','n'], dtype = float)\n",
    "print(df)"
   ]
  },
  {
   "cell_type": "code",
   "execution_count": 34,
   "id": "62f82c56",
   "metadata": {},
   "outputs": [
    {
     "name": "stdout",
     "output_type": "stream",
     "text": [
      "   0  1  2\n",
      "m  a  b  c\n",
      "n  1  2  3\n"
     ]
    }
   ],
   "source": [
    "lst = [['a','b','c'],[1,2,3]]\n",
    "df =pd.DataFrame(lst, index =['m','n'], dtype = float)\n",
    "print(df)"
   ]
  },
  {
   "cell_type": "code",
   "execution_count": 40,
   "id": "eabe599d",
   "metadata": {},
   "outputs": [
    {
     "name": "stdout",
     "output_type": "stream",
     "text": [
      "   A  B\n",
      "m  a  b\n",
      "n  1  2\n"
     ]
    }
   ],
   "source": [
    "lst1 = [['a','b'],[1,2]]\n",
    "df =pd.DataFrame(lst1, index =['m','n'], columns=['A','B'], dtype = float)\n",
    "print(df)"
   ]
  },
  {
   "cell_type": "code",
   "execution_count": 43,
   "id": "fbefe468",
   "metadata": {},
   "outputs": [
    {
     "name": "stdout",
     "output_type": "stream",
     "text": [
      "   A  B\n",
      "0  a  b\n",
      "1  1  2\n"
     ]
    }
   ],
   "source": [
    "df = pd.DataFrame(lst1,columns=['A','B'],dtype = float)\n",
    "print(df)"
   ]
  },
  {
   "cell_type": "code",
   "execution_count": 45,
   "id": "7319b537",
   "metadata": {},
   "outputs": [
    {
     "name": "stdout",
     "output_type": "stream",
     "text": [
      "     name   age\n",
      "0    Alex  10.0\n",
      "1     Bob  12.0\n",
      "2  Clarke  13.0\n"
     ]
    }
   ],
   "source": [
    "data = [['Alex',10],['Bob',12],['Clarke', 13]]\n",
    "df = pd.DataFrame(data,columns=['name','age'], dtype= float)\n",
    "print(df)"
   ]
  },
  {
   "cell_type": "code",
   "execution_count": null,
   "id": "2bc99bbf",
   "metadata": {},
   "outputs": [],
   "source": []
  }
 ],
 "metadata": {
  "kernelspec": {
   "display_name": "Python 3",
   "language": "python",
   "name": "python3"
  },
  "language_info": {
   "codemirror_mode": {
    "name": "ipython",
    "version": 3
   },
   "file_extension": ".py",
   "mimetype": "text/x-python",
   "name": "python",
   "nbconvert_exporter": "python",
   "pygments_lexer": "ipython3",
   "version": "3.8.8"
  }
 },
 "nbformat": 4,
 "nbformat_minor": 5
}
