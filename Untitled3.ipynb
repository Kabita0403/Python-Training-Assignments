{
 "cells": [
  {
   "cell_type": "code",
   "execution_count": 1,
   "id": "0abd34ad",
   "metadata": {},
   "outputs": [
    {
     "name": "stdout",
     "output_type": "stream",
     "text": [
      "True\n",
      "True\n"
     ]
    }
   ],
   "source": [
    "#Bool\n",
    "print(bool(\"hello\"))\n",
    "print(bool(15))"
   ]
  },
  {
   "cell_type": "code",
   "execution_count": 2,
   "id": "c92a35ee",
   "metadata": {},
   "outputs": [
    {
     "name": "stdout",
     "output_type": "stream",
     "text": [
      "True\n",
      "True\n"
     ]
    }
   ],
   "source": [
    "#Bool\n",
    "x = \"Hello\"\n",
    "y = 15\n",
    "\n",
    "print(bool(x))\n",
    "print(bool(y))"
   ]
  },
  {
   "cell_type": "code",
   "execution_count": 3,
   "id": "db43ef80",
   "metadata": {},
   "outputs": [
    {
     "data": {
      "text/plain": [
       "True"
      ]
     },
     "execution_count": 3,
     "metadata": {},
     "output_type": "execute_result"
    }
   ],
   "source": [
    "bool(\"abc\")\n",
    "bool(123)\n",
    "bool([\"Apple\",\"Cherry\",\"Banana\"])"
   ]
  },
  {
   "cell_type": "code",
   "execution_count": 4,
   "id": "57f6d540",
   "metadata": {},
   "outputs": [
    {
     "data": {
      "text/plain": [
       "False"
      ]
     },
     "execution_count": 4,
     "metadata": {},
     "output_type": "execute_result"
    }
   ],
   "source": [
    "bool(False)\n",
    "bool(None)\n",
    "bool(0)\n",
    "bool(\"\")\n",
    "bool(())\n",
    "bool([])\n",
    "bool({})"
   ]
  },
  {
   "cell_type": "code",
   "execution_count": 5,
   "id": "f75b537b",
   "metadata": {},
   "outputs": [
    {
     "name": "stdout",
     "output_type": "stream",
     "text": [
      "True\n"
     ]
    }
   ],
   "source": [
    "#bool\n",
    "def myFunction() :\n",
    "    return True\n",
    "print(myFunction())"
   ]
  },
  {
   "cell_type": "code",
   "execution_count": 8,
   "id": "e02cb70e",
   "metadata": {},
   "outputs": [
    {
     "name": "stdout",
     "output_type": "stream",
     "text": [
      "YES!\n"
     ]
    }
   ],
   "source": [
    "#bool\n",
    "def myFunction() :\n",
    "    return True\n",
    "\n",
    "if myFunction():\n",
    "    print(\"YES!\")\n",
    "else:\n",
    "    print(\"NO!\")"
   ]
  },
  {
   "cell_type": "code",
   "execution_count": 9,
   "id": "814f2080",
   "metadata": {},
   "outputs": [
    {
     "name": "stdout",
     "output_type": "stream",
     "text": [
      "True\n"
     ]
    }
   ],
   "source": [
    "x=200\n",
    "print(isinstance(x, int))"
   ]
  },
  {
   "cell_type": "code",
   "execution_count": 11,
   "id": "e3c1c62d",
   "metadata": {},
   "outputs": [
    {
     "name": "stdout",
     "output_type": "stream",
     "text": [
      "4\n",
      "I am first call to user defined function\n",
      "Again second call to the same function\n"
     ]
    }
   ],
   "source": [
    "def fn(str) :\n",
    "    \"this prints a passed string into this function\"\n",
    "    print(str)\n",
    "    return\n",
    "\n",
    "fn(4)\n",
    "fn(\"I am first call to user defined function\")\n",
    "fn(\"Again second call to the same function\")"
   ]
  },
  {
   "cell_type": "code",
   "execution_count": 13,
   "id": "5a975a07",
   "metadata": {},
   "outputs": [
    {
     "name": "stdout",
     "output_type": "stream",
     "text": [
      "Values inside the function:  [10, 20, 30, [1, 2, 3, 4]]\n",
      "Values outside the function:  [10, 20, 30, [1, 2, 3, 4]]\n"
     ]
    }
   ],
   "source": [
    "def fn (mylist):\n",
    "    \"This changes a passed list into this function\"\n",
    "    mylist.append([1,2,3,4])\n",
    "    print(\"Values inside the function: \",mylist)\n",
    "    return\n",
    "\n",
    "mylist = [10,20,30];\n",
    "fn ( mylist );\n",
    "print(\"Values outside the function: \", mylist)"
   ]
  },
  {
   "cell_type": "code",
   "execution_count": 16,
   "id": "2d8d10db",
   "metadata": {},
   "outputs": [
    {
     "name": "stdout",
     "output_type": "stream",
     "text": [
      "Values inside the function:  [1, 2, 3, 4]\n",
      "Values outside the function:  [10, 20, 30]\n"
     ]
    }
   ],
   "source": [
    "def changeme (mylist):\n",
    "    \"This changes a passed list into this function\"\n",
    "    mylist = [1,2,3,4];\n",
    "    print(\"Values inside the function: \",mylist)\n",
    "    return\n",
    "\n",
    "mylist = [10,20,30];\n",
    "changeme( mylist );\n",
    "print(\"Values outside the function: \", mylist)"
   ]
  },
  {
   "cell_type": "code",
   "execution_count": 17,
   "id": "2968f91e",
   "metadata": {},
   "outputs": [
    {
     "name": "stdout",
     "output_type": "stream",
     "text": [
      "My string\n"
     ]
    }
   ],
   "source": [
    "def fn( str):\n",
    "    \"This prints a passed string into this function\"\n",
    "    print(str)\n",
    "    return;\n",
    "\n",
    "fn(str = \"My string\")"
   ]
  },
  {
   "cell_type": "code",
   "execution_count": 18,
   "id": "84d209ac",
   "metadata": {},
   "outputs": [],
   "source": [
    "x = 88"
   ]
  },
  {
   "cell_type": "code",
   "execution_count": 19,
   "id": "ff7e47e3",
   "metadata": {},
   "outputs": [
    {
     "data": {
      "text/plain": [
       "88"
      ]
     },
     "execution_count": 19,
     "metadata": {},
     "output_type": "execute_result"
    }
   ],
   "source": [
    "x"
   ]
  },
  {
   "cell_type": "code",
   "execution_count": 21,
   "id": "a084ea43",
   "metadata": {},
   "outputs": [
    {
     "name": "stdout",
     "output_type": "stream",
     "text": [
      "Name:  mike\n",
      "Age:  50\n"
     ]
    }
   ],
   "source": [
    "def fn( name, age):\n",
    "    \"This prints a passed string into this function\"\n",
    "    print(\"Name: \", name)\n",
    "    print (\"Age: \", age)\n",
    "    return;\n",
    "\n",
    "fn( age=50, name=\"mike\")"
   ]
  },
  {
   "cell_type": "code",
   "execution_count": 22,
   "id": "4b598b08",
   "metadata": {},
   "outputs": [
    {
     "name": "stdout",
     "output_type": "stream",
     "text": [
      "Name:  niki\n",
      "Age:  50\n",
      "Name:  niki\n",
      "Age:  35\n"
     ]
    }
   ],
   "source": [
    "def printinfo(name, age = 35):\n",
    "    \"this prints a passed info this function\"\n",
    "    print(\"Name: \", name)\n",
    "    print(\"Age: \", age)\n",
    "    return;\n",
    "printinfo(age= 50, name ='niki')\n",
    "printinfo(name= \"niki\")"
   ]
  },
  {
   "cell_type": "code",
   "execution_count": 32,
   "id": "34516d64",
   "metadata": {},
   "outputs": [
    {
     "name": "stdout",
     "output_type": "stream",
     "text": [
      "output is: \n",
      "70\n",
      "60\n",
      "50\n",
      "40 40 Huiiii\n",
      "Hi\n",
      "40\n",
      "Hi\n",
      "40\n",
      "Hi\n",
      "50\n",
      "Hi\n",
      "Huiiii\n",
      "Hi\n",
      "10.555\n"
     ]
    }
   ],
   "source": [
    "#Function definition is here\n",
    "#def fn(arg1, *vartuple):\n",
    "def fn( arg1,arg2,arg3, *x):\n",
    "#def fn( arg1):\n",
    "    \"This prints a variable passed arguments \"\n",
    "    print(\"output is: \")\n",
    "    print(arg1)\n",
    "    print(arg2)\n",
    "    print(arg3)\n",
    "    print(x[0],x[1],x[3])\n",
    "    for var in x:\n",
    "        print(\"Hi\")\n",
    "        print(var)\n",
    "    #return\n",
    "    \n",
    "#call ptintinfo function\n",
    "#fn(10)\n",
    "#fn(70,60,50)\n",
    "fn(70, 60, 50, 40, 40, 50, \"Huiiii\", 10.555)"
   ]
  },
  {
   "cell_type": "code",
   "execution_count": 27,
   "id": "ea9e3929",
   "metadata": {},
   "outputs": [
    {
     "name": "stdout",
     "output_type": "stream",
     "text": [
      "Value of total :  30\n",
      "Value of total :  40\n"
     ]
    }
   ],
   "source": [
    "#The anonymous functions\n",
    "\n",
    "sum = lambda arg1, arg2: arg1 + arg2;\n",
    "\n",
    "#Now you can call sum as a function\n",
    "print(\"Value of total : \", sum(10,20))\n",
    "print(\"Value of total : \", sum(20,20))"
   ]
  },
  {
   "cell_type": "code",
   "execution_count": 28,
   "id": "61210a8d",
   "metadata": {},
   "outputs": [
    {
     "name": "stdout",
     "output_type": "stream",
     "text": [
      "15\n",
      "30\n",
      "13\n"
     ]
    }
   ],
   "source": [
    "x = lambda a : a+10\n",
    "print(x(5))\n",
    "\n",
    "x = lambda a, b : a*b\n",
    "print(x(5,6))\n",
    "\n",
    "x = lambda a,b,c : a+b+c\n",
    "print(x(5,6,2))"
   ]
  },
  {
   "cell_type": "code",
   "execution_count": 29,
   "id": "39fc6233",
   "metadata": {},
   "outputs": [
    {
     "name": "stdout",
     "output_type": "stream",
     "text": [
      "<function myfunc.<locals>.<lambda> at 0x00FA4A48>\n",
      "22\n"
     ]
    }
   ],
   "source": [
    "def myfunc(n):\n",
    "    return lambda a : a * n\n",
    "\n",
    "mydoubler = myfunc(2)\n",
    "print(myfunc(2))\n",
    "\n",
    "print(mydoubler(11))"
   ]
  },
  {
   "cell_type": "code",
   "execution_count": 30,
   "id": "b74cdbe1",
   "metadata": {},
   "outputs": [
    {
     "name": "stdout",
     "output_type": "stream",
     "text": [
      "33\n"
     ]
    }
   ],
   "source": [
    "def myfunc(n):\n",
    "    return lambda a : a * n\n",
    "\n",
    "mytripler = myfunc(3)\n",
    "\n",
    "print(mytripler(11))"
   ]
  },
  {
   "cell_type": "code",
   "execution_count": 33,
   "id": "8a737410",
   "metadata": {},
   "outputs": [
    {
     "data": {
      "text/plain": [
       "{'brand': 'Ford',\n",
       " 'electric': False,\n",
       " 'year': 1964,\n",
       " 'colors': ['red', 'white', 'blue']}"
      ]
     },
     "execution_count": 33,
     "metadata": {},
     "output_type": "execute_result"
    }
   ],
   "source": [
    "thisdict = {\n",
    "    \"brand\" : \"Ford\",\n",
    "    \"electric\": False,\n",
    "    \"year\" : 1964,\n",
    "    \"colors\" : [\"red\",\"white\",\"blue\"]\n",
    "}\n",
    "\n",
    "thisdict"
   ]
  },
  {
   "cell_type": "code",
   "execution_count": 34,
   "id": "c0b236c6",
   "metadata": {},
   "outputs": [
    {
     "name": "stdout",
     "output_type": "stream",
     "text": [
      "dict_keys(['brand', 'model', 'year'])\n",
      "dict_keys(['brand', 'model', 'year', 'color'])\n"
     ]
    }
   ],
   "source": [
    "car = {\n",
    "    \"brand\" : \"Ford\",\n",
    "    \"model\": \"mustang\",\n",
    "    \"year\" : 1964\n",
    "}\n",
    "\n",
    "x = car.keys()\n",
    "print(x) #before the change\n",
    "car[\"color\"] = \"white\"\n",
    "print(x) #after the change"
   ]
  },
  {
   "cell_type": "code",
   "execution_count": 37,
   "id": "1870fe6b",
   "metadata": {},
   "outputs": [
    {
     "name": "stdout",
     "output_type": "stream",
     "text": [
      "dict_values(['Ford', 'mustang', 1964])\n",
      "dict_values(['Ford', 'mustang', 2021])\n"
     ]
    },
    {
     "data": {
      "text/plain": [
       "{'brand': 'Ford', 'model': 'mustang', 'year': 2021}"
      ]
     },
     "execution_count": 37,
     "metadata": {},
     "output_type": "execute_result"
    }
   ],
   "source": [
    "car = {\n",
    "    \"brand\" : \"Ford\",\n",
    "    \"model\": \"mustang\",\n",
    "    \"year\" : 1964\n",
    "}\n",
    "\n",
    "x = car.values()\n",
    "print(x) #before the change\n",
    "car[\"year\"] = 2020\n",
    "car.update({\"year\":2021})\n",
    "print(x) #after the change\n",
    "car"
   ]
  },
  {
   "cell_type": "code",
   "execution_count": 39,
   "id": "f3cef707",
   "metadata": {},
   "outputs": [
    {
     "name": "stdout",
     "output_type": "stream",
     "text": [
      "{1: 'apple', 2: 'ball'} {'name': 'John', 1: [2, 4, 3]} {1: 'apple', 2: 'ball'} {1: 'apple', 2: 'ball'}\n"
     ]
    }
   ],
   "source": [
    "dic = {}\n",
    "\n",
    "dict1 = {1: 'apple', 2: 'ball'}\n",
    "\n",
    "dict2 = {'name': 'John', 1:[2,4,3]}\n",
    "\n",
    "dict3 = dict({1:'apple', 2:'ball'})\n",
    "\n",
    "dict4 = dict([(1,'apple'),(2,'ball')])\n",
    "\n",
    "print(dict1,dict2,dict3,dict4)"
   ]
  },
  {
   "cell_type": "code",
   "execution_count": 40,
   "id": "49c7134f",
   "metadata": {},
   "outputs": [
    {
     "name": "stdout",
     "output_type": "stream",
     "text": [
      "jack\n",
      "26\n",
      "None\n"
     ]
    },
    {
     "ename": "TypeError",
     "evalue": "'dict' object is not callable",
     "output_type": "error",
     "traceback": [
      "\u001b[1;31m---------------------------------------------------------------------------\u001b[0m",
      "\u001b[1;31mTypeError\u001b[0m                                 Traceback (most recent call last)",
      "\u001b[1;32m<ipython-input-40-64264e5f4a78>\u001b[0m in \u001b[0;36m<module>\u001b[1;34m\u001b[0m\n\u001b[0;32m      5\u001b[0m \u001b[0mprint\u001b[0m\u001b[1;33m(\u001b[0m\u001b[0mmy_dict\u001b[0m\u001b[1;33m.\u001b[0m\u001b[0mget\u001b[0m\u001b[1;33m(\u001b[0m\u001b[1;34m'age'\u001b[0m\u001b[1;33m)\u001b[0m\u001b[1;33m)\u001b[0m\u001b[1;33m\u001b[0m\u001b[1;33m\u001b[0m\u001b[0m\n\u001b[0;32m      6\u001b[0m \u001b[0mprint\u001b[0m\u001b[1;33m(\u001b[0m\u001b[0mmy_dict\u001b[0m\u001b[1;33m.\u001b[0m\u001b[0mget\u001b[0m\u001b[1;33m(\u001b[0m\u001b[1;34m'address'\u001b[0m\u001b[1;33m)\u001b[0m\u001b[1;33m)\u001b[0m\u001b[1;33m\u001b[0m\u001b[1;33m\u001b[0m\u001b[0m\n\u001b[1;32m----> 7\u001b[1;33m \u001b[0mprint\u001b[0m\u001b[1;33m(\u001b[0m\u001b[0mmy_dict\u001b[0m\u001b[1;33m(\u001b[0m\u001b[1;34m'age'\u001b[0m\u001b[1;33m)\u001b[0m\u001b[1;33m)\u001b[0m\u001b[1;33m\u001b[0m\u001b[1;33m\u001b[0m\u001b[0m\n\u001b[0m",
      "\u001b[1;31mTypeError\u001b[0m: 'dict' object is not callable"
     ]
    }
   ],
   "source": [
    "my_dict = {'name': 'jack','age': 26}\n",
    "\n",
    "print(my_dict['name'])\n",
    "\n",
    "print(my_dict.get('age'))\n",
    "print(my_dict.get('address'))\n",
    "print(my_dict('age'))"
   ]
  },
  {
   "cell_type": "code",
   "execution_count": 41,
   "id": "3370c46a",
   "metadata": {},
   "outputs": [
    {
     "name": "stdout",
     "output_type": "stream",
     "text": [
      "{'Math': 0, 'English': 0, 'Science': 0}\n",
      "('Math', 0)\n",
      "('English', 0)\n",
      "('Science', 0)\n",
      "['English', 'Math', 'Science']\n"
     ]
    }
   ],
   "source": [
    "#Dictionary Methods \n",
    "marks = {}.fromkeys(['Math','English','Science'], 0)\n",
    "\n",
    "print(marks)\n",
    "\n",
    "for item in marks.items():\n",
    "    print(item)\n",
    "    \n",
    "print(list(sorted(marks.keys())))"
   ]
  },
  {
   "cell_type": "code",
   "execution_count": 42,
   "id": "89f7b784",
   "metadata": {},
   "outputs": [
    {
     "name": "stdout",
     "output_type": "stream",
     "text": [
      "{0: 0, 1: 1, 2: 4, 3: 9, 4: 16, 5: 25}\n",
      "{0: 0, 1: 1, 2: 4, 3: 9, 4: 16, 5: 25}\n"
     ]
    }
   ],
   "source": [
    "#Dictionary Comprehension\n",
    "squares = {x: x*x for x in range(6)}\n",
    "\n",
    "print(squares)\n",
    "\n",
    "squares = {}\n",
    "for x in range(6):\n",
    "    squares[x] = x*x\n",
    "print(squares)"
   ]
  },
  {
   "cell_type": "code",
   "execution_count": 43,
   "id": "623dbf43",
   "metadata": {},
   "outputs": [
    {
     "name": "stdout",
     "output_type": "stream",
     "text": [
      "True\n",
      "True\n",
      "False\n"
     ]
    }
   ],
   "source": [
    "squares = {1: 1, 3: 9, 5:25, 7:49}\n",
    "\n",
    "print(1 in squares)\n",
    "print(2 not in squares)\n",
    "\n",
    "print(49 in squares)"
   ]
  },
  {
   "cell_type": "code",
   "execution_count": 45,
   "id": "e3e1c275",
   "metadata": {},
   "outputs": [
    {
     "name": "stdout",
     "output_type": "stream",
     "text": [
      "1\n",
      "9\n",
      "25\n",
      "49\n",
      "81\n"
     ]
    }
   ],
   "source": [
    "squares ={1:1, 3:9, 5:25, 7:49, 9:81}\n",
    "for i in squares:\n",
    "    print(squares[i])"
   ]
  },
  {
   "cell_type": "code",
   "execution_count": 46,
   "id": "dbee42fe",
   "metadata": {},
   "outputs": [
    {
     "name": "stdout",
     "output_type": "stream",
     "text": [
      "{'name': 'Dionysia', 'age': 28}\n",
      "Athens\n"
     ]
    }
   ],
   "source": [
    "my_information = {'name': 'Dionysia', 'age': 28, 'location': 'Athens'}\n",
    "\n",
    "city = my_information.pop('location')\n",
    "print(my_information)\n",
    "print(city)"
   ]
  },
  {
   "cell_type": "code",
   "execution_count": 47,
   "id": "6989e315",
   "metadata": {},
   "outputs": [
    {
     "ename": "KeyError",
     "evalue": "'occupation'",
     "output_type": "error",
     "traceback": [
      "\u001b[1;31m---------------------------------------------------------------------------\u001b[0m",
      "\u001b[1;31mKeyError\u001b[0m                                  Traceback (most recent call last)",
      "\u001b[1;32m<ipython-input-47-77844f5c4ac1>\u001b[0m in \u001b[0;36m<module>\u001b[1;34m\u001b[0m\n\u001b[0;32m      1\u001b[0m \u001b[0mmy_information\u001b[0m \u001b[1;33m=\u001b[0m \u001b[1;33m{\u001b[0m\u001b[1;34m'name'\u001b[0m\u001b[1;33m:\u001b[0m \u001b[1;34m'Dionysia'\u001b[0m\u001b[1;33m,\u001b[0m \u001b[1;34m'age'\u001b[0m\u001b[1;33m:\u001b[0m \u001b[1;36m28\u001b[0m\u001b[1;33m,\u001b[0m \u001b[1;34m'location'\u001b[0m\u001b[1;33m:\u001b[0m \u001b[1;34m'Athens'\u001b[0m\u001b[1;33m}\u001b[0m\u001b[1;33m\u001b[0m\u001b[1;33m\u001b[0m\u001b[0m\n\u001b[1;32m----> 2\u001b[1;33m \u001b[0mmy_information\u001b[0m\u001b[1;33m.\u001b[0m\u001b[0mpop\u001b[0m\u001b[1;33m(\u001b[0m\u001b[1;34m'occupation'\u001b[0m\u001b[1;33m)\u001b[0m\u001b[1;33m\u001b[0m\u001b[1;33m\u001b[0m\u001b[0m\n\u001b[0m\u001b[0;32m      3\u001b[0m \u001b[0mprint\u001b[0m\u001b[1;33m(\u001b[0m\u001b[0mmy_information\u001b[0m\u001b[1;33m)\u001b[0m\u001b[1;33m\u001b[0m\u001b[1;33m\u001b[0m\u001b[0m\n",
      "\u001b[1;31mKeyError\u001b[0m: 'occupation'"
     ]
    }
   ],
   "source": [
    "my_information = {'name': 'Dionysia', 'age': 28, 'location': 'Athens'}\n",
    "my_information.pop('occupation')\n",
    "print(my_information)\n",
    "print(city)"
   ]
  },
  {
   "cell_type": "code",
   "execution_count": 50,
   "id": "6075fc51",
   "metadata": {},
   "outputs": [
    {
     "name": "stdout",
     "output_type": "stream",
     "text": [
      "{'child1': {'name': 'Emil', 'year': 2004}, 'child2': {'name': 'Tobias', 'year': 2007}, 'child3': {'name': 'Linus', 'year': 2011}}\n",
      "{'name': 'Linus', 'year': 2011}\n"
     ]
    }
   ],
   "source": [
    "dic = {\n",
    "    \"child1\" : {\n",
    "       \"name\" : \"Emil\",\n",
    "        \"year\": 2004\n",
    "    },\n",
    "    \"child2\" : {\n",
    "       \"name\" : \"Tobias\",\n",
    "        \"year\": 2007\n",
    "    },\n",
    "    \"child3\" : {\n",
    "       \"name\" : \"Linus\",\n",
    "        \"year\": 2011\n",
    "    },\n",
    "}\n",
    "\n",
    "print(dic)\n",
    "print(dic['child3'])"
   ]
  },
  {
   "cell_type": "code",
   "execution_count": 51,
   "id": "fdea396a",
   "metadata": {},
   "outputs": [
    {
     "name": "stdout",
     "output_type": "stream",
     "text": [
      "{'child1': {'name': 'Linus', 'year': 2011}}\n"
     ]
    }
   ],
   "source": [
    "a1={\n",
    "    \"name\":\"emil\",\n",
    "    \"year\":2004\n",
    "}\n",
    "a2={\n",
    "    \"name\":\"Tobias\",\n",
    "    \"year\":2012\n",
    "}\n",
    "a3={\n",
    "    \"name\":\"Linus\",\n",
    "    \"year\":2011\n",
    "}\n",
    "aa={\n",
    "    \"child1\":a1,\n",
    "    \"child1\":a2,\n",
    "    \"child1\":a3\n",
    "}\n",
    "print(aa)"
   ]
  },
  {
   "cell_type": "code",
   "execution_count": null,
   "id": "f30464cd",
   "metadata": {},
   "outputs": [],
   "source": []
  }
 ],
 "metadata": {
  "kernelspec": {
   "display_name": "Python 3",
   "language": "python",
   "name": "python3"
  },
  "language_info": {
   "codemirror_mode": {
    "name": "ipython",
    "version": 3
   },
   "file_extension": ".py",
   "mimetype": "text/x-python",
   "name": "python",
   "nbconvert_exporter": "python",
   "pygments_lexer": "ipython3",
   "version": "3.8.8"
  }
 },
 "nbformat": 4,
 "nbformat_minor": 5
}
