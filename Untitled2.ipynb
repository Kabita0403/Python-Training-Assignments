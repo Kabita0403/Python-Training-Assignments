{
 "cells": [
  {
   "cell_type": "code",
   "execution_count": 2,
   "id": "3ae892fd",
   "metadata": {},
   "outputs": [
    {
     "name": "stdout",
     "output_type": "stream",
     "text": [
      "['11', 1, 3]\n"
     ]
    }
   ],
   "source": [
    "lst = ['11',1,3]\n",
    "print (lst)"
   ]
  },
  {
   "cell_type": "code",
   "execution_count": 4,
   "id": "5826fc89",
   "metadata": {},
   "outputs": [
    {
     "name": "stdout",
     "output_type": "stream",
     "text": [
      "['11', 1, 3]\n"
     ]
    }
   ],
   "source": [
    "print(lst)"
   ]
  },
  {
   "cell_type": "code",
   "execution_count": 5,
   "id": "e468bf25",
   "metadata": {},
   "outputs": [
    {
     "name": "stdout",
     "output_type": "stream",
     "text": [
      "['Apple', 'Banana', 'Cherry']\n",
      "['Apple', 'Banana', 'Cherry']\n"
     ]
    }
   ],
   "source": [
    "mylist = [\"Apple\", \"Banana\", \"Cherry\"]\n",
    "print(mylist)\n",
    "thislist = list((\"Apple\", \"Banana\", \"Cherry\"))\n",
    "print(thislist)"
   ]
  },
  {
   "cell_type": "code",
   "execution_count": 6,
   "id": "ed294fe3",
   "metadata": {},
   "outputs": [
    {
     "name": "stdout",
     "output_type": "stream",
     "text": [
      "['Apple', 'Banana', 'Cherry']\n"
     ]
    }
   ],
   "source": [
    "print(mylist)"
   ]
  },
  {
   "cell_type": "code",
   "execution_count": 8,
   "id": "ba328d91",
   "metadata": {},
   "outputs": [
    {
     "data": {
      "text/plain": [
       "'11'"
      ]
     },
     "execution_count": 8,
     "metadata": {},
     "output_type": "execute_result"
    }
   ],
   "source": [
    "lst[0]"
   ]
  },
  {
   "cell_type": "code",
   "execution_count": 9,
   "id": "560b189c",
   "metadata": {},
   "outputs": [
    {
     "name": "stdout",
     "output_type": "stream",
     "text": [
      "3\n"
     ]
    }
   ],
   "source": [
    "thislist = [\"Apple\",\"Banana\",\"Cherry\"]\n",
    "print(len(thislist))"
   ]
  },
  {
   "cell_type": "code",
   "execution_count": 18,
   "id": "aa8dfc75",
   "metadata": {},
   "outputs": [],
   "source": [
    "list1 = [\"Apple\",\"Banana\",\"Cherry\"]\n",
    "list2 = [1,5,7,9,3]\n",
    "list3 = [True, False, False]\n",
    "newlist = [x if x != \"Banana\" else \"Orange\" for x in fruits]"
   ]
  },
  {
   "cell_type": "code",
   "execution_count": 17,
   "id": "18c5f55c",
   "metadata": {},
   "outputs": [
    {
     "name": "stdout",
     "output_type": "stream",
     "text": [
      "['Apple', 'Banana', 'Cherry']\n"
     ]
    }
   ],
   "source": [
    "fruits = [\"Apple\", \"Banana\", \"Cherry\"]\n",
    "print(fruits)"
   ]
  },
  {
   "cell_type": "code",
   "execution_count": 19,
   "id": "3dbd6193",
   "metadata": {},
   "outputs": [
    {
     "name": "stdout",
     "output_type": "stream",
     "text": [
      "['abc', 34, True, 40, 'Male']\n"
     ]
    }
   ],
   "source": [
    "list1 = [\"abc\",34,True,40,\"Male\"]\n",
    "print(list1)"
   ]
  },
  {
   "cell_type": "code",
   "execution_count": 20,
   "id": "88465311",
   "metadata": {},
   "outputs": [
    {
     "name": "stdout",
     "output_type": "stream",
     "text": [
      "<class 'list'>\n"
     ]
    }
   ],
   "source": [
    "mylist = [\"Apple\",\"Banana\",\"Cherry\"]\n",
    "print(type(mylist))"
   ]
  },
  {
   "cell_type": "code",
   "execution_count": 22,
   "id": "c3d22a68",
   "metadata": {},
   "outputs": [
    {
     "name": "stdout",
     "output_type": "stream",
     "text": [
      "[1, 2, 3, 1, 2, 3]\n",
      "['a', 'b', 'c', 1, 2, 3]\n"
     ]
    }
   ],
   "source": [
    "list1 = [\"a\",\"b\",\"c\"]\n",
    "list2 = [1, 2, 3]\n",
    "list4 = list2*2\n",
    "print(list4)\n",
    "\n",
    "list3 = list1 + list2\n",
    "print(list3)"
   ]
  },
  {
   "cell_type": "code",
   "execution_count": 23,
   "id": "8babc0bb",
   "metadata": {},
   "outputs": [
    {
     "name": "stdout",
     "output_type": "stream",
     "text": [
      "list1[0]:  physics\n",
      "list2[1:5]: [2, 3, 4, 5]\n"
     ]
    }
   ],
   "source": [
    "list1 = ['physics','chemistry', 1997, 2000];\n",
    "list2 = [1,2,3,4,5,6,7];\n",
    "print(\"list1[0]: \", list1[0])\n",
    "print(\"list2[1:5]:\", list2[1:5])"
   ]
  },
  {
   "cell_type": "code",
   "execution_count": 25,
   "id": "25869ee1",
   "metadata": {},
   "outputs": [
    {
     "name": "stdout",
     "output_type": "stream",
     "text": [
      "1997\n",
      "2001\n"
     ]
    }
   ],
   "source": [
    "list = ['physics','chemistry', 1997, 2000];\n",
    "print(list[2])\n",
    "list[2] = 2001;\n",
    "print(list[2])"
   ]
  },
  {
   "cell_type": "code",
   "execution_count": 28,
   "id": "e0198689",
   "metadata": {},
   "outputs": [
    {
     "name": "stdout",
     "output_type": "stream",
     "text": [
      "['physics', 'chemistry', 1997, 2000]\n",
      "After deleting value at index 2: ['physics', 'chemistry', 2000]\n"
     ]
    }
   ],
   "source": [
    "list1 = ['physics','chemistry', 1997, 2000];\n",
    "print(list1)\n",
    "del list1[2];\n",
    "print(\"After deleting value at index 2:\",(list1))\n"
   ]
  },
  {
   "cell_type": "code",
   "execution_count": 31,
   "id": "b6fe60b0",
   "metadata": {},
   "outputs": [
    {
     "name": "stdout",
     "output_type": "stream",
     "text": [
      "list1[0]: physics\n",
      "list2[1:5]: [5, 6, 7]\n",
      "list2[1:5]: [3, 4, 5, 6, 7]\n",
      "list2[1:5]: [1, 2]\n"
     ]
    }
   ],
   "source": [
    "list1 = ['physics','chemistry', 1997, 2000];\n",
    "list2 = [1,2,3,4,5,6,7];\n",
    "print(\"list1[0]:\",list1[0])\n",
    "print(\"list2[1:5]:\",list2[-3:])\n",
    "print(\"list2[1:5]:\", list2[2:])\n",
    "print(\"list2[1:5]:\", list2[:2])"
   ]
  },
  {
   "cell_type": "code",
   "execution_count": 32,
   "id": "8f6db0ed",
   "metadata": {},
   "outputs": [
    {
     "name": "stdout",
     "output_type": "stream",
     "text": [
      "apple\n",
      "banana\n",
      "cherry\n"
     ]
    }
   ],
   "source": [
    "thislist = [\"apple\",\"banana\",\"cherry\"]\n",
    "for x in thislist:\n",
    "    print(x)"
   ]
  },
  {
   "cell_type": "code",
   "execution_count": 34,
   "id": "3d79cd45",
   "metadata": {},
   "outputs": [
    {
     "name": "stdout",
     "output_type": "stream",
     "text": [
      "apple\n",
      "banana\n",
      "cherry\n"
     ]
    }
   ],
   "source": [
    "thislist = [\"apple\",\"banana\",\"cherry\"]\n",
    "for i in range(len(thislist)):\n",
    "    print(thislist[i])"
   ]
  },
  {
   "cell_type": "code",
   "execution_count": 35,
   "id": "69ed7aff",
   "metadata": {},
   "outputs": [
    {
     "name": "stdout",
     "output_type": "stream",
     "text": [
      "apple\n",
      "banana\n",
      "cherry\n"
     ]
    }
   ],
   "source": [
    "thislist = [\"apple\",\"banana\",\"cherry\"]\n",
    "i = 0\n",
    "while i < len(thislist):\n",
    "    print(thislist[i])\n",
    "    i=i+1"
   ]
  },
  {
   "cell_type": "code",
   "execution_count": 36,
   "id": "75a8a11d",
   "metadata": {},
   "outputs": [
    {
     "name": "stdout",
     "output_type": "stream",
     "text": [
      "['a', 'b', 'c', 1, 2, 3]\n"
     ]
    }
   ],
   "source": [
    "list1 = [\"a\",\"b\",\"c\"]\n",
    "list2 = [1, 2, 3]\n",
    "\n",
    "for x in list2:\n",
    "    list1.append(x)\n",
    "\n",
    "print(list1)"
   ]
  },
  {
   "cell_type": "code",
   "execution_count": 38,
   "id": "d72cb692",
   "metadata": {},
   "outputs": [
    {
     "name": "stdout",
     "output_type": "stream",
     "text": [
      "[0, 1, 2, 3, 4, 5, 6, 7, 8, 9] [0, 1, 2, 3, 4] ['APPLE', 'BANANA', 'CHERRY', 'KIWI', 'MANGO']\n"
     ]
    }
   ],
   "source": [
    "newlist0 = [x for x in range(10)]\n",
    "newlist1 = [x for x in range(10) if x < 5]\n",
    "newlist2 = [x.upper() for x in fruits]\n",
    "print(newlist0,newlist1,newlist2)\n",
    "\n",
    "fruits = [\"apple\",\"banana\",\"cherry\",\"kiwi\",\"mango\"]\n",
    "newlist = [x.upper() for x in fruits]\n",
    "newlist = ['hello' for x in fruits]\n",
    "newlist = [x if x != \"banana\" else \"orange\" for x in fruits]"
   ]
  },
  {
   "cell_type": "code",
   "execution_count": 39,
   "id": "6ce01be9",
   "metadata": {},
   "outputs": [
    {
     "name": "stdout",
     "output_type": "stream",
     "text": [
      "[2, 3, 4]\n"
     ]
    }
   ],
   "source": [
    "list = [1,2,3,4,5,6]\n",
    "print(list[1:4])"
   ]
  },
  {
   "cell_type": "code",
   "execution_count": 40,
   "id": "1c5a6665",
   "metadata": {},
   "outputs": [
    {
     "name": "stdout",
     "output_type": "stream",
     "text": [
      "\n",
      " ['Python', '.Net', 'Java']\n",
      "\n",
      " ['Python', '.Net', 'Java', 'C', 'C#']\n",
      "\n",
      " ['Python', 'C', '.Net', 'Java', 'C', 'C#']\n",
      "\n",
      " ['Python', '.Net', 'Java', 'C', 'C#']\n",
      "\n",
      " ['.Net', 'C', 'C#', 'Java', 'Python']\n",
      "\n",
      " ['C#', 'C', 'Java', '.Net', 'Python']\n"
     ]
    }
   ],
   "source": [
    "list = ['Python','.Net']\n",
    "\n",
    "list.append(\"Java\")\n",
    "print(\"\\n\",list)\n",
    "\n",
    "list.extend(['C','C#'])\n",
    "print(\"\\n\",list)\n",
    "\n",
    "list.insert(1, 'C')\n",
    "print(\"\\n\",list)\n",
    "\n",
    "list.remove('C')\n",
    "print(\"\\n\",list)\n",
    "\n",
    "print(\"\\n\",sorted(list))\n",
    "print(\"\\n\",list[::-1])"
   ]
  },
  {
   "cell_type": "code",
   "execution_count": 41,
   "id": "cf642ba1",
   "metadata": {},
   "outputs": [
    {
     "name": "stdout",
     "output_type": "stream",
     "text": [
      "Cherry\n"
     ]
    }
   ],
   "source": [
    "thistuple = (\"Apple\", \"Banana\", \"Cherry\")\n",
    "print(thistuple[-1])"
   ]
  },
  {
   "cell_type": "code",
   "execution_count": 44,
   "id": "d21cbb9f",
   "metadata": {},
   "outputs": [
    {
     "name": "stdout",
     "output_type": "stream",
     "text": [
      "('Apple', 'Banana', 'Cherry', 'Orange')\n",
      "('Cherry', 'Orange', 'Kiwi', 'Melon', 'Mango')\n",
      "('Orange', 'Kiwi', 'Melon')\n"
     ]
    }
   ],
   "source": [
    "thistuple = (\"Apple\", \"Banana\", \"Cherry\",\"Orange\",\"Kiwi\",\"Melon\",\"Mango\")\n",
    "print(thistuple[:4])\n",
    "print(thistuple[2:])\n",
    "print(thistuple[-4:-1])"
   ]
  },
  {
   "cell_type": "code",
   "execution_count": 5,
   "id": "a1d3a21c",
   "metadata": {},
   "outputs": [
    {
     "name": "stdout",
     "output_type": "stream",
     "text": [
      "Yes,'Apple' is in the fruits tuple\n"
     ]
    }
   ],
   "source": [
    "thistuple=(\"Apple\",\"Banana\",\"Cherry\")\n",
    "if \"Apple\" in thistuple:\n",
    "    print(\"Yes,'Apple' is in the fruits tuple\")"
   ]
  },
  {
   "cell_type": "code",
   "execution_count": 6,
   "id": "f0895405",
   "metadata": {},
   "outputs": [
    {
     "name": "stdout",
     "output_type": "stream",
     "text": [
      "Apple\n",
      "Banana\n",
      "Cherry\n",
      "Apple\n",
      "Banana\n"
     ]
    }
   ],
   "source": [
    "thistuple = (\"Apple\",\"Banana\",\"Cherry\")\n",
    "for i in range(len(thistuple)):\n",
    "    print(thistuple[i])\n",
    "    \n",
    "thistuple = (\"Apple\",\"Banana\",\"Cherry\")\n",
    "for i in range(0,2):\n",
    "    print(thistuple[i])"
   ]
  },
  {
   "cell_type": "code",
   "execution_count": 7,
   "id": "a4db0772",
   "metadata": {},
   "outputs": [
    {
     "name": "stdout",
     "output_type": "stream",
     "text": [
      "('Apple', 'kiwi', 'Cherry')\n"
     ]
    }
   ],
   "source": [
    "x = (\"Apple\",\"Banana\",\"Cherry\")\n",
    "y = list(x)\n",
    "y[1] = \"kiwi\"\n",
    "x = tuple(y)\n",
    "\n",
    "print(x)"
   ]
  },
  {
   "cell_type": "code",
   "execution_count": 8,
   "id": "79d9e047",
   "metadata": {},
   "outputs": [
    {
     "name": "stdout",
     "output_type": "stream",
     "text": [
      "('Apple', 'Banana', 'Cherry', 'orange')\n"
     ]
    }
   ],
   "source": [
    "thistuple = (\"Apple\",\"Banana\",\"Cherry\")\n",
    "y = list(thistuple)\n",
    "y.append(\"orange\")\n",
    "thistuple = tuple(y)\n",
    "\n",
    "print(thistuple)"
   ]
  },
  {
   "cell_type": "code",
   "execution_count": 9,
   "id": "966f8f29",
   "metadata": {},
   "outputs": [
    {
     "name": "stdout",
     "output_type": "stream",
     "text": [
      "('Apple', 'Banana', 'Cherry', 'Orange')\n"
     ]
    }
   ],
   "source": [
    "thistuple = (\"Apple\",\"Banana\",\"Cherry\")\n",
    "y = (\"Orange\",)\n",
    "thistuple += y\n",
    "\n",
    "print(thistuple)"
   ]
  },
  {
   "cell_type": "code",
   "execution_count": 10,
   "id": "d845b51e",
   "metadata": {},
   "outputs": [
    {
     "ename": "NameError",
     "evalue": "name 'thistupple' is not defined",
     "output_type": "error",
     "traceback": [
      "\u001b[1;31m---------------------------------------------------------------------------\u001b[0m",
      "\u001b[1;31mNameError\u001b[0m                                 Traceback (most recent call last)",
      "\u001b[1;32m<ipython-input-10-a0d220d0ce0f>\u001b[0m in \u001b[0;36m<module>\u001b[1;34m\u001b[0m\n\u001b[0;32m      1\u001b[0m \u001b[0mthistuple\u001b[0m \u001b[1;33m=\u001b[0m \u001b[1;33m(\u001b[0m\u001b[1;34m\"Apple\"\u001b[0m\u001b[1;33m,\u001b[0m\u001b[1;34m\"Banana\"\u001b[0m\u001b[1;33m,\u001b[0m\u001b[1;34m\"Cherry\"\u001b[0m\u001b[1;33m)\u001b[0m\u001b[1;33m\u001b[0m\u001b[1;33m\u001b[0m\u001b[0m\n\u001b[1;32m----> 2\u001b[1;33m \u001b[0my\u001b[0m \u001b[1;33m=\u001b[0m \u001b[0mlist\u001b[0m\u001b[1;33m(\u001b[0m\u001b[0mthistupple\u001b[0m\u001b[1;33m)\u001b[0m\u001b[1;33m\u001b[0m\u001b[1;33m\u001b[0m\u001b[0m\n\u001b[0m\u001b[0;32m      3\u001b[0m \u001b[0my\u001b[0m\u001b[1;33m.\u001b[0m\u001b[0mremove\u001b[0m\u001b[1;33m(\u001b[0m\u001b[1;34m\"Apple\"\u001b[0m\u001b[1;33m)\u001b[0m\u001b[1;33m\u001b[0m\u001b[1;33m\u001b[0m\u001b[0m\n\u001b[0;32m      4\u001b[0m \u001b[0mthistuple\u001b[0m \u001b[1;33m=\u001b[0m \u001b[0mtuple\u001b[0m\u001b[1;33m(\u001b[0m\u001b[0my\u001b[0m\u001b[1;33m)\u001b[0m\u001b[1;33m\u001b[0m\u001b[1;33m\u001b[0m\u001b[0m\n\u001b[0;32m      5\u001b[0m \u001b[0mprint\u001b[0m\u001b[1;33m(\u001b[0m\u001b[0mthistuple\u001b[0m\u001b[1;33m)\u001b[0m\u001b[1;33m\u001b[0m\u001b[1;33m\u001b[0m\u001b[0m\n",
      "\u001b[1;31mNameError\u001b[0m: name 'thistupple' is not defined"
     ]
    }
   ],
   "source": [
    "thistuple = (\"Apple\",\"Banana\",\"Cherry\")\n",
    "y = list(thistupple)\n",
    "y.remove(\"Apple\")\n",
    "thistuple = tuple(y)\n",
    "print(thistuple)"
   ]
  },
  {
   "cell_type": "code",
   "execution_count": 11,
   "id": "ddd9e6b4",
   "metadata": {},
   "outputs": [
    {
     "name": "stdout",
     "output_type": "stream",
     "text": [
      "{'Cherry', 'Apple', 'Banana'} {1, 3, 5, 7, 9} {False, True}\n"
     ]
    }
   ],
   "source": [
    "set1 = {\"Apple\",\"Banana\",\"Cherry\"}\n",
    "set2 = {1, 5, 7, 9, 3}\n",
    "set3 = {True, False, False}\n",
    "\n",
    "print(set1,set2,set3)"
   ]
  },
  {
   "cell_type": "code",
   "execution_count": 12,
   "id": "e4932435",
   "metadata": {},
   "outputs": [
    {
     "name": "stdout",
     "output_type": "stream",
     "text": [
      "<class 'set'>\n"
     ]
    }
   ],
   "source": [
    "myset = {\"Apple\",\"Banana\",\"Cherry\"}\n",
    "print(type(myset))"
   ]
  },
  {
   "cell_type": "code",
   "execution_count": 13,
   "id": "91e8c55c",
   "metadata": {},
   "outputs": [
    {
     "name": "stdout",
     "output_type": "stream",
     "text": [
      "{'Cherry', 'Apple', 'Banana'}\n"
     ]
    }
   ],
   "source": [
    "thisset = set((\"Apple\",\"Banana\",\"Cherry\"))\n",
    "print(thisset)"
   ]
  },
  {
   "cell_type": "code",
   "execution_count": 14,
   "id": "0d00719c",
   "metadata": {},
   "outputs": [
    {
     "name": "stdout",
     "output_type": "stream",
     "text": [
      "Cherry\n",
      "Apple\n",
      "Banana\n"
     ]
    }
   ],
   "source": [
    "thisset = {\"Apple\",\"Banana\",\"Cherry\"}\n",
    "\n",
    "for x in thisset:\n",
    "    print(x)"
   ]
  },
  {
   "cell_type": "code",
   "execution_count": 16,
   "id": "f5cc198f",
   "metadata": {},
   "outputs": [
    {
     "name": "stdout",
     "output_type": "stream",
     "text": [
      "True\n"
     ]
    }
   ],
   "source": [
    "thisset = {\"Apple\",\"Banana\",\"Cherry\"}\n",
    "\n",
    "print(\"Banana\" in thisset)"
   ]
  },
  {
   "cell_type": "code",
   "execution_count": 17,
   "id": "9e33396f",
   "metadata": {},
   "outputs": [
    {
     "name": "stdout",
     "output_type": "stream",
     "text": [
      "{'kiwi', 'Banana', 'Cherry', 'Apple', 'Orange'}\n"
     ]
    }
   ],
   "source": [
    "thisset = {\"Apple\",\"Banana\",\"Cherry\"}\n",
    "mylist = [\"kiwi\",\"Orange\"]\n",
    "\n",
    "thisset.update(mylist)\n",
    "\n",
    "print(thisset)"
   ]
  },
  {
   "cell_type": "code",
   "execution_count": 18,
   "id": "8a30459d",
   "metadata": {},
   "outputs": [
    {
     "name": "stdout",
     "output_type": "stream",
     "text": [
      "Cherry\n",
      "{'Apple', 'Banana'}\n"
     ]
    }
   ],
   "source": [
    "thisset = {\"Apple\",\"Banana\",\"Cherry\"}\n",
    "\n",
    "x = thisset.pop()\n",
    "\n",
    "print(x)\n",
    "print(thisset)"
   ]
  },
  {
   "cell_type": "code",
   "execution_count": 19,
   "id": "b0f85f94",
   "metadata": {},
   "outputs": [
    {
     "name": "stdout",
     "output_type": "stream",
     "text": [
      "{'Cherry', 'Apple', 'Pineapple', 'Banana', 'Mango', 'Papaya'}\n"
     ]
    }
   ],
   "source": [
    "thisset = {\"Apple\",\"Banana\",\"Cherry\"}\n",
    "tropical = {\"Pineapple\",\"Mango\",\"Papaya\"}\n",
    "\n",
    "thisset.update(tropical)\n",
    "\n",
    "print(thisset)"
   ]
  },
  {
   "cell_type": "code",
   "execution_count": 24,
   "id": "bd8e224b",
   "metadata": {},
   "outputs": [
    {
     "name": "stdout",
     "output_type": "stream",
     "text": [
      "Greater\n",
      "Less\n",
      "Equal\n"
     ]
    }
   ],
   "source": [
    "def compare_to_five(y):\n",
    "    if y > 5:\n",
    "        return \"Greater\"\n",
    "    elif y < 5:\n",
    "        return \"Less\"\n",
    "    else:\n",
    "        return \"Equal\"\n",
    "print(compare_to_five(10))\n",
    "print(compare_to_five(2))\n",
    "print(compare_to_five(5))"
   ]
  },
  {
   "cell_type": "code",
   "execution_count": 26,
   "id": "e13d9ce8",
   "metadata": {},
   "outputs": [
    {
     "name": "stdout",
     "output_type": "stream",
     "text": [
      "Negative\n",
      "Less\n"
     ]
    }
   ],
   "source": [
    "def compare_to_five(y):\n",
    "    if y > 5:\n",
    "        return \"Greater\"\n",
    "    elif y < 0:\n",
    "        return \"Negative\"\n",
    "    elif y < 5:\n",
    "        return \"Less\"\n",
    "    else:\n",
    "        return \"Equal\"\n",
    "print(compare_to_five(-3))\n",
    "print(compare_to_five(3))\n"
   ]
  },
  {
   "cell_type": "code",
   "execution_count": null,
   "id": "e5de0463",
   "metadata": {},
   "outputs": [],
   "source": [
    "x = \"awesome\""
   ]
  }
 ],
 "metadata": {
  "kernelspec": {
   "display_name": "Python 3",
   "language": "python",
   "name": "python3"
  },
  "language_info": {
   "codemirror_mode": {
    "name": "ipython",
    "version": 3
   },
   "file_extension": ".py",
   "mimetype": "text/x-python",
   "name": "python",
   "nbconvert_exporter": "python",
   "pygments_lexer": "ipython3",
   "version": "3.8.8"
  }
 },
 "nbformat": 4,
 "nbformat_minor": 5
}
