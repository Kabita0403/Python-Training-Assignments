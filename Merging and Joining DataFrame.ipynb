{
 "cells": [
  {
   "cell_type": "code",
   "execution_count": 9,
   "id": "4483c86d",
   "metadata": {},
   "outputs": [],
   "source": [
    "import pandas as  pd"
   ]
  },
  {
   "cell_type": "code",
   "execution_count": 23,
   "id": "5cbd674d",
   "metadata": {},
   "outputs": [
    {
     "data": {
      "text/html": [
       "<div>\n",
       "<style scoped>\n",
       "    .dataframe tbody tr th:only-of-type {\n",
       "        vertical-align: middle;\n",
       "    }\n",
       "\n",
       "    .dataframe tbody tr th {\n",
       "        vertical-align: top;\n",
       "    }\n",
       "\n",
       "    .dataframe thead th {\n",
       "        text-align: right;\n",
       "    }\n",
       "</style>\n",
       "<table border=\"1\" class=\"dataframe\">\n",
       "  <thead>\n",
       "    <tr style=\"text-align: right;\">\n",
       "      <th></th>\n",
       "      <th>Student_id</th>\n",
       "      <th>First_name</th>\n",
       "      <th>Last_name</th>\n",
       "    </tr>\n",
       "  </thead>\n",
       "  <tbody>\n",
       "    <tr>\n",
       "      <th>0</th>\n",
       "      <td>180105015</td>\n",
       "      <td>kkkk</td>\n",
       "      <td>cccc</td>\n",
       "    </tr>\n",
       "    <tr>\n",
       "      <th>1</th>\n",
       "      <td>180105004</td>\n",
       "      <td>aaaa</td>\n",
       "      <td>vvv</td>\n",
       "    </tr>\n",
       "    <tr>\n",
       "      <th>2</th>\n",
       "      <td>180105009</td>\n",
       "      <td>DDDd</td>\n",
       "      <td>hhh</td>\n",
       "    </tr>\n",
       "    <tr>\n",
       "      <th>3</th>\n",
       "      <td>180105029</td>\n",
       "      <td>SSSS</td>\n",
       "      <td>PPPP</td>\n",
       "    </tr>\n",
       "    <tr>\n",
       "      <th>4</th>\n",
       "      <td>180105033</td>\n",
       "      <td>Yuuu</td>\n",
       "      <td>Ssss</td>\n",
       "    </tr>\n",
       "    <tr>\n",
       "      <th>5</th>\n",
       "      <td>180105016</td>\n",
       "      <td>Nmnnn</td>\n",
       "      <td>yyyy</td>\n",
       "    </tr>\n",
       "    <tr>\n",
       "      <th>6</th>\n",
       "      <td>180105034</td>\n",
       "      <td>ssssa</td>\n",
       "      <td>iiii</td>\n",
       "    </tr>\n",
       "  </tbody>\n",
       "</table>\n",
       "</div>"
      ],
      "text/plain": [
       "   Student_id First_name Last_name\n",
       "0   180105015       kkkk      cccc\n",
       "1   180105004       aaaa       vvv\n",
       "2   180105009       DDDd       hhh\n",
       "3   180105029       SSSS      PPPP\n",
       "4   180105033       Yuuu      Ssss\n",
       "5   180105016      Nmnnn      yyyy\n",
       "6   180105034      ssssa      iiii"
      ]
     },
     "execution_count": 23,
     "metadata": {},
     "output_type": "execute_result"
    }
   ],
   "source": [
    "#engg = pd.read_csv('data/Engineering - Student.csv')\n",
    "pd.read_csv(\"D:\\\\prac.csv\")\n",
    "#sciene = pd.read_csv('data/Science - Student.csv')\n",
    "#science = pd.read_csv('Science - Student.csv')\n",
    "#exam = pd.read_csv('data/Test - Info.csv')\n",
    "#student_exam = pd.read_csv('data/Student - Exam - Info.csv')\n",
    "#exam = pd.read_csv('Test - Info.csv')\n",
    "#student_exam = pd.read_csv('Student - Exam - Info.csv')"
   ]
  },
  {
   "cell_type": "code",
   "execution_count": 22,
   "id": "02a131e5",
   "metadata": {},
   "outputs": [
    {
     "data": {
      "text/html": [
       "<div>\n",
       "<style scoped>\n",
       "    .dataframe tbody tr th:only-of-type {\n",
       "        vertical-align: middle;\n",
       "    }\n",
       "\n",
       "    .dataframe tbody tr th {\n",
       "        vertical-align: top;\n",
       "    }\n",
       "\n",
       "    .dataframe thead th {\n",
       "        text-align: right;\n",
       "    }\n",
       "</style>\n",
       "<table border=\"1\" class=\"dataframe\">\n",
       "  <thead>\n",
       "    <tr style=\"text-align: right;\">\n",
       "      <th></th>\n",
       "      <th>Student_id</th>\n",
       "      <th>Marks</th>\n",
       "    </tr>\n",
       "  </thead>\n",
       "  <tbody>\n",
       "    <tr>\n",
       "      <th>0</th>\n",
       "      <td>180105016</td>\n",
       "      <td>75</td>\n",
       "    </tr>\n",
       "    <tr>\n",
       "      <th>1</th>\n",
       "      <td>180105015</td>\n",
       "      <td>65</td>\n",
       "    </tr>\n",
       "    <tr>\n",
       "      <th>2</th>\n",
       "      <td>180105034</td>\n",
       "      <td>65</td>\n",
       "    </tr>\n",
       "    <tr>\n",
       "      <th>3</th>\n",
       "      <td>180105004</td>\n",
       "      <td>85</td>\n",
       "    </tr>\n",
       "    <tr>\n",
       "      <th>4</th>\n",
       "      <td>180105029</td>\n",
       "      <td>65</td>\n",
       "    </tr>\n",
       "    <tr>\n",
       "      <th>5</th>\n",
       "      <td>180105033</td>\n",
       "      <td>56</td>\n",
       "    </tr>\n",
       "    <tr>\n",
       "      <th>6</th>\n",
       "      <td>180105009</td>\n",
       "      <td>62</td>\n",
       "    </tr>\n",
       "  </tbody>\n",
       "</table>\n",
       "</div>"
      ],
      "text/plain": [
       "   Student_id  Marks\n",
       "0   180105016     75\n",
       "1   180105015     65\n",
       "2   180105034     65\n",
       "3   180105004     85\n",
       "4   180105029     65\n",
       "5   180105033     56\n",
       "6   180105009     62"
      ]
     },
     "execution_count": 22,
     "metadata": {},
     "output_type": "execute_result"
    }
   ],
   "source": [
    "pd.read_csv(\"D:\\\\prac2.csv\")\n"
   ]
  },
  {
   "cell_type": "code",
   "execution_count": 20,
   "id": "1041ef25",
   "metadata": {},
   "outputs": [
    {
     "name": "stdout",
     "output_type": "stream",
     "text": [
      "   Student_id First_name Last_name  Marks\n",
      "0   180105015       kkkk      cccc     65\n",
      "1   180105004       aaaa       vvv     85\n",
      "2   180105009       DDDd       hhh     62\n",
      "3   180105029       SSSS      PPPP     65\n",
      "4   180105033       Yuuu      Ssss     56\n",
      "5   180105016      Nmnnn      yyyy     75\n",
      "6   180105034      ssssa      iiii     65\n"
     ]
    }
   ],
   "source": [
    "df = pd.read_csv(\"D:\\\\prac.csv\")\n",
    "df1 = pd.read_csv(\"D:\\\\prac2.csv\")\n",
    "df2 =df.merge(df1 ,how= 'outer',on = 'Student_id')\n",
    "print(df2)"
   ]
  },
  {
   "cell_type": "code",
   "execution_count": 21,
   "id": "657899c5",
   "metadata": {},
   "outputs": [
    {
     "name": "stdout",
     "output_type": "stream",
     "text": [
      "   Student_id First_name Last_name  Student_id  Marks\n",
      "0   180105015       kkkk      cccc   180105016     75\n",
      "1   180105004       aaaa       vvv   180105015     65\n",
      "2   180105009       DDDd       hhh   180105034     65\n",
      "3   180105029       SSSS      PPPP   180105004     85\n",
      "4   180105033       Yuuu      Ssss   180105029     65\n",
      "5   180105016      Nmnnn      yyyy   180105033     56\n",
      "6   180105034      ssssa      iiii   180105009     62\n"
     ]
    }
   ],
   "source": [
    "df = pd.read_csv(\"D:\\\\prac.csv\")\n",
    "df1 = pd.read_csv(\"D:\\\\prac2.csv\")\n",
    "df2 = pd.concat([df,df1],axis =1)\n",
    "print(df2)"
   ]
  },
  {
   "cell_type": "code",
   "execution_count": null,
   "id": "58ce1f37",
   "metadata": {},
   "outputs": [],
   "source": []
  },
  {
   "cell_type": "code",
   "execution_count": null,
   "id": "8eb62d1e",
   "metadata": {},
   "outputs": [],
   "source": []
  }
 ],
 "metadata": {
  "kernelspec": {
   "display_name": "Python 3",
   "language": "python",
   "name": "python3"
  },
  "language_info": {
   "codemirror_mode": {
    "name": "ipython",
    "version": 3
   },
   "file_extension": ".py",
   "mimetype": "text/x-python",
   "name": "python",
   "nbconvert_exporter": "python",
   "pygments_lexer": "ipython3",
   "version": "3.8.8"
  }
 },
 "nbformat": 4,
 "nbformat_minor": 5
}
